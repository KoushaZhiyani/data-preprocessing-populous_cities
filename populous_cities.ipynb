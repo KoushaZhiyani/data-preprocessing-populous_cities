{
 "cells": [
  {
   "attachments": {},
   "cell_type": "markdown",
   "metadata": {},
   "source": [
    "<h1 align=center style=\"line-height:200%;font-family:vazir;color:#0099cc\">\n",
    "<font face=\"vazir\" color=\"#0099cc\">\n",
    " شهر‌های پرجمعیت\n",
    "</font>\n",
    "</h1>\n",
    "\n"
   ]
  },
  {
   "cell_type": "code",
   "execution_count": 279,
   "metadata": {},
   "outputs": [],
   "source": [
    "import numpy as np\n",
    "import pandas as pd"
   ]
  },
  {
   "attachments": {},
   "cell_type": "markdown",
   "metadata": {},
   "source": [
    "<h2 align=right style=\"line-height:200%;font-family:vazir;color:#0099cc\">\n",
    "<font face=\"vazir\" color=\"#0099cc\">\n",
    "مجموعه داده\n",
    "</font>\n",
    "</h2>\n"
   ]
  },
  {
   "cell_type": "code",
   "execution_count": 281,
   "metadata": {},
   "outputs": [
    {
     "data": {
      "text/html": [
       "<div>\n",
       "<style scoped>\n",
       "    .dataframe tbody tr th:only-of-type {\n",
       "        vertical-align: middle;\n",
       "    }\n",
       "\n",
       "    .dataframe tbody tr th {\n",
       "        vertical-align: top;\n",
       "    }\n",
       "\n",
       "    .dataframe thead th {\n",
       "        text-align: right;\n",
       "    }\n",
       "</style>\n",
       "<table border=\"1\" class=\"dataframe\">\n",
       "  <thead>\n",
       "    <tr style=\"text-align: right;\">\n",
       "      <th></th>\n",
       "      <th>ville</th>\n",
       "      <th>ville_ascii</th>\n",
       "      <th>lat</th>\n",
       "      <th>lng</th>\n",
       "      <th>pays</th>\n",
       "      <th>iso2</th>\n",
       "      <th>iso3</th>\n",
       "      <th>admin_nom</th>\n",
       "      <th>capital</th>\n",
       "      <th>population</th>\n",
       "      <th>id</th>\n",
       "    </tr>\n",
       "  </thead>\n",
       "  <tbody>\n",
       "    <tr>\n",
       "      <th>0</th>\n",
       "      <td>A Coruña</td>\n",
       "      <td>A Coruna</td>\n",
       "      <td>43.3667</td>\n",
       "      <td>-8.3833</td>\n",
       "      <td>Spain</td>\n",
       "      <td>ES</td>\n",
       "      <td>ESP</td>\n",
       "      <td>Galicia</td>\n",
       "      <td>minor</td>\n",
       "      <td>245468.0</td>\n",
       "      <td>1.724417e+09</td>\n",
       "    </tr>\n",
       "    <tr>\n",
       "      <th>1</th>\n",
       "      <td>A Yun Pa</td>\n",
       "      <td>A Yun Pa</td>\n",
       "      <td>13.3939</td>\n",
       "      <td>108.4408</td>\n",
       "      <td>Vietnam</td>\n",
       "      <td>VN</td>\n",
       "      <td>VNM</td>\n",
       "      <td>Gia Lai</td>\n",
       "      <td>minor</td>\n",
       "      <td>53720.0</td>\n",
       "      <td>1.704946e+09</td>\n",
       "    </tr>\n",
       "    <tr>\n",
       "      <th>2</th>\n",
       "      <td>Aabenraa</td>\n",
       "      <td>Aabenraa</td>\n",
       "      <td>55.0444</td>\n",
       "      <td>9.4181</td>\n",
       "      <td>Denmark</td>\n",
       "      <td>DK</td>\n",
       "      <td>DNK</td>\n",
       "      <td>Syddanmark</td>\n",
       "      <td>minor</td>\n",
       "      <td>16401.0</td>\n",
       "      <td>1.208000e+09</td>\n",
       "    </tr>\n",
       "    <tr>\n",
       "      <th>3</th>\n",
       "      <td>Aachen</td>\n",
       "      <td>Aachen</td>\n",
       "      <td>50.7756</td>\n",
       "      <td>6.0836</td>\n",
       "      <td>Germany</td>\n",
       "      <td>DE</td>\n",
       "      <td>DEU</td>\n",
       "      <td>North Rhine-Westphalia</td>\n",
       "      <td>minor</td>\n",
       "      <td>249070.0</td>\n",
       "      <td>1.276806e+09</td>\n",
       "    </tr>\n",
       "    <tr>\n",
       "      <th>4</th>\n",
       "      <td>Aadorf</td>\n",
       "      <td>Aadorf</td>\n",
       "      <td>47.4939</td>\n",
       "      <td>8.8975</td>\n",
       "      <td>Switzerland</td>\n",
       "      <td>CH</td>\n",
       "      <td>CHE</td>\n",
       "      <td>Thurgau</td>\n",
       "      <td>NaN</td>\n",
       "      <td>9036.0</td>\n",
       "      <td>1.756023e+09</td>\n",
       "    </tr>\n",
       "  </tbody>\n",
       "</table>\n",
       "</div>"
      ],
      "text/plain": [
       "      ville ville_ascii      lat       lng         pays iso2 iso3  \\\n",
       "0  A Coruña    A Coruna  43.3667   -8.3833        Spain   ES  ESP   \n",
       "1  A Yun Pa    A Yun Pa  13.3939  108.4408      Vietnam   VN  VNM   \n",
       "2  Aabenraa    Aabenraa  55.0444    9.4181      Denmark   DK  DNK   \n",
       "3    Aachen      Aachen  50.7756    6.0836      Germany   DE  DEU   \n",
       "4    Aadorf      Aadorf  47.4939    8.8975  Switzerland   CH  CHE   \n",
       "\n",
       "                admin_nom capital  population            id  \n",
       "0                 Galicia   minor    245468.0  1.724417e+09  \n",
       "1                 Gia Lai   minor     53720.0  1.704946e+09  \n",
       "2              Syddanmark   minor     16401.0  1.208000e+09  \n",
       "3  North Rhine-Westphalia   minor    249070.0  1.276806e+09  \n",
       "4                 Thurgau     NaN      9036.0  1.756023e+09  "
      ]
     },
     "execution_count": 281,
     "metadata": {},
     "output_type": "execute_result"
    }
   ],
   "source": [
    "# load data\n",
    "df = pd.read_excel(\"worldcities.xlsx\")\n",
    "df.head()"
   ]
  },
  {
   "cell_type": "code",
   "execution_count": 282,
   "metadata": {},
   "outputs": [
    {
     "data": {
      "text/plain": [
       "(44667, 11)"
      ]
     },
     "execution_count": 282,
     "metadata": {},
     "output_type": "execute_result"
    }
   ],
   "source": [
    "df_main = pd.read_excel(\"worldcities.xlsx\")\n",
    "df_main.shape"
   ]
  },
  {
   "cell_type": "code",
   "execution_count": 283,
   "metadata": {},
   "outputs": [],
   "source": [
    "df_main.rename(columns={\"pays\":\"country\"}, inplace=True)"
   ]
  },
  {
   "cell_type": "markdown",
   "metadata": {},
   "source": [
    "<h2 align=right style=\"line-height:200%;font-family:vazir;color:#0099cc\">\n",
    "<font face=\"vazir\" color=\"#0099cc\">\n",
    "حذف و نام‌گذاری ستون‌ها\n",
    "</font>\n",
    "</h2>\n"
   ]
  },
  {
   "cell_type": "code",
   "execution_count": 284,
   "metadata": {},
   "outputs": [
    {
     "data": {
      "text/html": [
       "<div>\n",
       "<style scoped>\n",
       "    .dataframe tbody tr th:only-of-type {\n",
       "        vertical-align: middle;\n",
       "    }\n",
       "\n",
       "    .dataframe tbody tr th {\n",
       "        vertical-align: top;\n",
       "    }\n",
       "\n",
       "    .dataframe thead th {\n",
       "        text-align: right;\n",
       "    }\n",
       "</style>\n",
       "<table border=\"1\" class=\"dataframe\">\n",
       "  <thead>\n",
       "    <tr style=\"text-align: right;\">\n",
       "      <th></th>\n",
       "      <th>city</th>\n",
       "      <th>lat</th>\n",
       "      <th>lng</th>\n",
       "      <th>country</th>\n",
       "      <th>iso2</th>\n",
       "      <th>iso3</th>\n",
       "      <th>population</th>\n",
       "    </tr>\n",
       "  </thead>\n",
       "  <tbody>\n",
       "    <tr>\n",
       "      <th>0</th>\n",
       "      <td>A Coruña</td>\n",
       "      <td>43.3667</td>\n",
       "      <td>-8.3833</td>\n",
       "      <td>Spain</td>\n",
       "      <td>ES</td>\n",
       "      <td>ESP</td>\n",
       "      <td>245468.0</td>\n",
       "    </tr>\n",
       "    <tr>\n",
       "      <th>1</th>\n",
       "      <td>A Yun Pa</td>\n",
       "      <td>13.3939</td>\n",
       "      <td>108.4408</td>\n",
       "      <td>Vietnam</td>\n",
       "      <td>VN</td>\n",
       "      <td>VNM</td>\n",
       "      <td>53720.0</td>\n",
       "    </tr>\n",
       "    <tr>\n",
       "      <th>2</th>\n",
       "      <td>Aabenraa</td>\n",
       "      <td>55.0444</td>\n",
       "      <td>9.4181</td>\n",
       "      <td>Denmark</td>\n",
       "      <td>DK</td>\n",
       "      <td>DNK</td>\n",
       "      <td>16401.0</td>\n",
       "    </tr>\n",
       "    <tr>\n",
       "      <th>3</th>\n",
       "      <td>Aachen</td>\n",
       "      <td>50.7756</td>\n",
       "      <td>6.0836</td>\n",
       "      <td>Germany</td>\n",
       "      <td>DE</td>\n",
       "      <td>DEU</td>\n",
       "      <td>249070.0</td>\n",
       "    </tr>\n",
       "    <tr>\n",
       "      <th>4</th>\n",
       "      <td>Aadorf</td>\n",
       "      <td>47.4939</td>\n",
       "      <td>8.8975</td>\n",
       "      <td>Switzerland</td>\n",
       "      <td>CH</td>\n",
       "      <td>CHE</td>\n",
       "      <td>9036.0</td>\n",
       "    </tr>\n",
       "  </tbody>\n",
       "</table>\n",
       "</div>"
      ],
      "text/plain": [
       "       city      lat       lng      country iso2 iso3  population\n",
       "0  A Coruña  43.3667   -8.3833        Spain   ES  ESP    245468.0\n",
       "1  A Yun Pa  13.3939  108.4408      Vietnam   VN  VNM     53720.0\n",
       "2  Aabenraa  55.0444    9.4181      Denmark   DK  DNK     16401.0\n",
       "3    Aachen  50.7756    6.0836      Germany   DE  DEU    249070.0\n",
       "4    Aadorf  47.4939    8.8975  Switzerland   CH  CHE      9036.0"
      ]
     },
     "execution_count": 284,
     "metadata": {},
     "output_type": "execute_result"
    }
   ],
   "source": [
    "# drop and rename\n",
    "df = df = df.drop([\"ville_ascii\", \"capital\", \"id\", \"admin_nom\"], axis=1)\n",
    "df.rename(columns={\"ville\":\"city\", \"pays\":\"country\"}, inplace=True)\n",
    "df.head()"
   ]
  },
  {
   "cell_type": "markdown",
   "metadata": {},
   "source": [
    "<h2 align=right style=\"line-height:200%;font-family:vazir;color:#0099cc\">\n",
    "<font face=\"vazir\" color=\"#0099cc\">\n",
    "فیلتر داده\n",
    "</font>\n",
    "</h2>\n"
   ]
  },
  {
   "cell_type": "code",
   "execution_count": 285,
   "metadata": {},
   "outputs": [
    {
     "data": {
      "text/plain": [
       "(776, 7)"
      ]
     },
     "execution_count": 285,
     "metadata": {},
     "output_type": "execute_result"
    }
   ],
   "source": [
    "# filter data\n",
    "df = df = df[df[\"population\"] >= 1000000]\n",
    "df.shape"
   ]
  },
  {
   "cell_type": "code",
   "execution_count": 286,
   "metadata": {},
   "outputs": [
    {
     "data": {
      "text/plain": [
       "city           object\n",
       "lat           float64\n",
       "lng           float64\n",
       "country        object\n",
       "iso2           object\n",
       "iso3           object\n",
       "population      int32\n",
       "dtype: object"
      ]
     },
     "execution_count": 286,
     "metadata": {},
     "output_type": "execute_result"
    }
   ],
   "source": [
    "# change type population\n",
    "df[\"population\"] = df[\"population\"].astype('int32')\n",
    "df.dtypes"
   ]
  },
  {
   "cell_type": "code",
   "execution_count": 290,
   "metadata": {},
   "outputs": [],
   "source": [
    "first_df = df.copy()"
   ]
  },
  {
   "cell_type": "code",
   "execution_count": 320,
   "metadata": {},
   "outputs": [],
   "source": [
    "df = first_df.copy()"
   ]
  },
  {
   "cell_type": "markdown",
   "metadata": {},
   "source": [
    "<h2 align=right style=\"line-height:200%;font-family:vazir;color:#0099cc\">\n",
    "<font face=\"vazir\" color=\"#0099cc\">\n",
    "حذف داده‌های تکراری و گم‌شده\n",
    "</font>\n",
    "</h2>\n",
    "\n"
   ]
  },
  {
   "cell_type": "code",
   "execution_count": 331,
   "metadata": {},
   "outputs": [
    {
     "data": {
      "text/plain": [
       "(767, 7)"
      ]
     },
     "execution_count": 331,
     "metadata": {},
     "output_type": "execute_result"
    }
   ],
   "source": [
    "# remove duplicated and missed values\n",
    "df =  df.drop_duplicates()\n",
    "nan_row = df.isna().sum(axis=1)\n",
    "df = df[nan_row < 2]\n",
    "df.shape"
   ]
  },
  {
   "cell_type": "code",
   "execution_count": null,
   "metadata": {},
   "outputs": [],
   "source": []
  },
  {
   "attachments": {},
   "cell_type": "markdown",
   "metadata": {},
   "source": [
    "<h2 align=right style=\"line-height:200%;font-family:vazir;color:#0099cc\">\n",
    "<font face=\"vazir\" color=\"#0099cc\">\n",
    "پر کردن داده‌ها گم‌شده\n",
    "</font>\n",
    "</h2>\n"
   ]
  },
  {
   "cell_type": "code",
   "execution_count": 330,
   "metadata": {
    "scrolled": true
   },
   "outputs": [
    {
     "name": "stdout",
     "output_type": "stream",
     "text": [
      "<class 'pandas.core.frame.DataFrame'>\n",
      "Index: 776 entries, 19 to 44629\n",
      "Data columns (total 7 columns):\n",
      " #   Column      Non-Null Count  Dtype  \n",
      "---  ------      --------------  -----  \n",
      " 0   city        776 non-null    object \n",
      " 1   lat         774 non-null    float64\n",
      " 2   lng         775 non-null    float64\n",
      " 3   country     774 non-null    object \n",
      " 4   iso2        774 non-null    object \n",
      " 5   iso3        774 non-null    object \n",
      " 6   population  776 non-null    int32  \n",
      "dtypes: float64(2), int32(1), object(4)\n",
      "memory usage: 45.5+ KB\n",
      "<class 'pandas.core.frame.DataFrame'>\n",
      "RangeIndex: 44667 entries, 0 to 44666\n",
      "Data columns (total 11 columns):\n",
      " #   Column       Non-Null Count  Dtype  \n",
      "---  ------       --------------  -----  \n",
      " 0   ville        44667 non-null  object \n",
      " 1   ville_ascii  44667 non-null  object \n",
      " 2   lat          44665 non-null  float64\n",
      " 3   lng          44665 non-null  float64\n",
      " 4   country      44665 non-null  object \n",
      " 5   iso2         44631 non-null  object \n",
      " 6   iso3         44665 non-null  object \n",
      " 7   admin_nom    44350 non-null  object \n",
      " 8   capital      11136 non-null  object \n",
      " 9   population   44361 non-null  float64\n",
      " 10  id           44666 non-null  float64\n",
      "dtypes: float64(4), object(7)\n",
      "memory usage: 3.7+ MB\n",
      "<class 'pandas.core.frame.DataFrame'>\n",
      "Index: 767 entries, 19 to 44629\n",
      "Data columns (total 7 columns):\n",
      " #   Column      Non-Null Count  Dtype  \n",
      "---  ------      --------------  -----  \n",
      " 0   city        767 non-null    object \n",
      " 1   lat         765 non-null    float64\n",
      " 2   lng         766 non-null    float64\n",
      " 3   country     767 non-null    object \n",
      " 4   iso2        767 non-null    object \n",
      " 5   iso3        767 non-null    object \n",
      " 6   population  767 non-null    int32  \n",
      "dtypes: float64(2), int32(1), object(4)\n",
      "memory usage: 61.1+ KB\n"
     ]
    }
   ],
   "source": [
    "first_df.info()\n",
    "df_main.info()\n",
    "df.info()"
   ]
  },
  {
   "cell_type": "code",
   "execution_count": 332,
   "metadata": {},
   "outputs": [],
   "source": [
    "avg_lng_lat = df.groupby(\"country\").agg({\"lng\": \"mean\", \"lat\": \"mean\"})"
   ]
  },
  {
   "cell_type": "code",
   "execution_count": 333,
   "metadata": {},
   "outputs": [
    {
     "data": {
      "text/plain": [
       "lng    10.089467\n",
       "lat     4.836200\n",
       "Name: Cameroon, dtype: float64"
      ]
     },
     "execution_count": 333,
     "metadata": {},
     "output_type": "execute_result"
    }
   ],
   "source": [
    "avg_lng_lat.loc[\"Cameroon\"]"
   ]
  },
  {
   "cell_type": "code",
   "execution_count": 334,
   "metadata": {},
   "outputs": [],
   "source": [
    "df['lng'] = df.apply(lambda row: row['lng'] if pd.notna(row['lng']) else avg_lng_lat.loc[row['country'], 'lng'], axis=1)\n",
    "df['lat'] = df.apply(lambda row: row['lat'] if pd.notna(row['lat']) else avg_lng_lat.loc[row['country'], 'lat'], axis=1)\n"
   ]
  },
  {
   "cell_type": "markdown",
   "metadata": {},
   "source": [
    "<h2 align=right style=\"line-height:200%;font-family:vazir;color:#0099cc\">\n",
    "<font face=\"vazir\" color=\"#0099cc\">\n",
    "محاسبه فاصله از تهران\n",
    "</font>\n",
    "</h2>\n"
   ]
  },
  {
   "cell_type": "markdown",
   "metadata": {},
   "source": [
    "<p dir=rtl style=\"direction: rtl;text-align: justify;line-height:200%;font-family:vazir;font-size:medium\">\n",
    "<font face=\"vazir\" size=3>\n",
    "فرمول هاورسین:\n",
    "</font>\n",
    "</p>\n",
    "\n",
    "\n",
    "\n",
    "$\\lambda_1$, $\\lambda_2$ : longitudes of the two points in radians (lng)\n",
    "\n",
    "$\\varphi_1$, $\\varphi_2$ : the latitudes of the two points in radians (lat)\n",
    "\n",
    "$d$ : distance between two cities\n",
    "\n",
    "\n",
    "$$\n",
    "r = 6371\n",
    "$$\n",
    "$$\n",
    "a = \\sin^2\\left(\\frac{\\varphi_2-\\varphi_1}{2}\\right) + \\cos(\\varphi_1)\\cos(\\varphi_2)\\sin^2\\left(\\frac{\\lambda_2-\\lambda_1}{2}\\right)\n",
    "$$\n",
    "$$\n",
    "d = 2r \\operatorname{atan2}\\left(\\sqrt{a}, \\sqrt{1 -a}\\right)\n",
    "$$\n",
    "\n"
   ]
  },
  {
   "cell_type": "code",
   "execution_count": 338,
   "metadata": {},
   "outputs": [
    {
     "data": {
      "text/plain": [
       "35.6892"
      ]
     },
     "execution_count": 338,
     "metadata": {},
     "output_type": "execute_result"
    }
   ],
   "source": [
    "Teh_lat = df[\"lat\"][df[\"city\"] == \"Tehran\"].values[0]\n",
    "Teh_lng = df[\"lng\"][df[\"city\"] == \"Tehran\"].values[0]\n",
    "Teh_lat"
   ]
  },
  {
   "cell_type": "code",
   "execution_count": 339,
   "metadata": {},
   "outputs": [],
   "source": [
    "df[\"haversin_from_teh\"] = (np.sin((np.deg2rad(df[\"lat\"]) - np.deg2rad(Teh_lat)) / 2)**2)) + (\n",
    "np.cos(np.deg2rad(df[\"lat\"])) * np.cos(np.deg2rad(Teh_lat)) * np.sin(np.deg2rad((df[\"lng\"]- Teh_lng)/2))**2)\n"
   ]
  },
  {
   "cell_type": "code",
   "execution_count": 340,
   "metadata": {},
   "outputs": [],
   "source": [
    "# create distance_from_tehran column\n",
    "df[\"distance_from_tehran\"] = 2 * 6371 * np.arctan2(np.sqrt(df[\"haversin_from_teh\"]), np.sqrt(1-df[\"haversin_from_teh\"]))"
   ]
  },
  {
   "cell_type": "markdown",
   "metadata": {},
   "source": [
    "<h2 align=right style=\"line-height:200%;font-family:vazir;color:#0099cc\">\n",
    "<font face=\"vazir\" color=\"#0099cc\">\n",
    "مرتب‌سازی و دخیره دیتافریم\n",
    "</font>\n",
    "</h2>\n"
   ]
  },
  {
   "cell_type": "code",
   "execution_count": 343,
   "metadata": {},
   "outputs": [],
   "source": [
    "# sort and save dataframe df \n",
    "df.sort_values(by=[\"city\", \"lat\"], ascending=[True, False], inplace=True)\n",
    "df.to_csv(\"distances.csv\", index=False)"
   ]
  },
  {
   "cell_type": "code",
   "execution_count": 344,
   "metadata": {},
   "outputs": [],
   "source": [
    "# sort and save dataframe first_df\n",
    "first_df.sort_values(by=[\"city\", \"lat\"], ascending=[True, False], inplace=True)\n",
    "first_df.to_csv(\"cities.csv\", index=False)"
   ]
  }
 ],
 "metadata": {
  "kernelspec": {
   "display_name": "Python 3 (ipykernel)",
   "language": "python",
   "name": "python3"
  },
  "language_info": {
   "codemirror_mode": {
    "name": "ipython",
    "version": 3
   },
   "file_extension": ".py",
   "mimetype": "text/x-python",
   "name": "python",
   "nbconvert_exporter": "python",
   "pygments_lexer": "ipython3",
   "version": "3.11.7"
  },
  "vscode": {
   "interpreter": {
    "hash": "8d0909762a60a05afe89cc6a3f713e7fde53c0a756a008763870981f8cbb9d97"
   }
  }
 },
 "nbformat": 4,
 "nbformat_minor": 4
}
